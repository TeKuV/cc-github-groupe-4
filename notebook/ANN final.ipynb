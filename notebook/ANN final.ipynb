{
 "cells": [
  {
   "cell_type": "code",
   "execution_count": null,
   "metadata": {},
   "outputs": [],
   "source": [
    "from scirpts.load_data import preprocessing_pipeline\n",
    "\n",
    "X_train, X_test, y_train, y_test = preprocessing_pipeline()"
   ]
  },
  {
   "cell_type": "code",
   "execution_count": null,
   "metadata": {},
   "outputs": [],
   "source": [
    "from DiamondModel import DiamondModel\n",
    "\n",
    "model = DiamondModel(X_train.shape[1])"
   ]
  },
  {
   "cell_type": "code",
   "execution_count": null,
   "metadata": {},
   "outputs": [
    {
     "name": "stdout",
     "output_type": "stream",
     "text": [
      "Epoch:0, | Loss:1.58017 | Acc=39.99% | Test Loss:1.57796 | Test Acc:39.76%\n",
      "Epoch:1000, | Loss:0.60670 | Acc=76.62% | Test Loss:0.61214 | Test Acc:76.26%\n",
      "Epoch:2000, | Loss:0.56967 | Acc=77.53% | Test Loss:0.57811 | Test Acc:77.52%\n",
      "Epoch:3000, | Loss:0.55313 | Acc=78.17% | Test Loss:0.56213 | Test Acc:77.73%\n",
      "Epoch:4000, | Loss:0.53747 | Acc=78.66% | Test Loss:0.55021 | Test Acc:77.99%\n",
      "Epoch:5000, | Loss:0.52521 | Acc=79.32% | Test Loss:0.53827 | Test Acc:78.36%\n",
      "Epoch:6000, | Loss:0.51779 | Acc=79.70% | Test Loss:0.53350 | Test Acc:78.74%\n",
      "Epoch:7000, | Loss:0.51330 | Acc=79.79% | Test Loss:0.53136 | Test Acc:78.87%\n",
      "Epoch:8000, | Loss:0.51072 | Acc=79.95% | Test Loss:0.53025 | Test Acc:78.96%\n",
      "Epoch:9000, | Loss:0.50835 | Acc=80.07% | Test Loss:0.52837 | Test Acc:78.97%\n"
     ]
    }
   ],
   "source": [
    "from trainning_model import train\n",
    "\n",
    "model = train(X_train, y_train, X_test, y_test, model)"
   ]
  },
  {
   "cell_type": "code",
   "execution_count": null,
   "metadata": {},
   "outputs": [],
   "source": [
    "import time\n",
    "\n",
    "save_model(model, f'../models/model_{time.time()}.pth')"
   ]
  }
 ],
 "metadata": {
  "kernelspec": {
   "display_name": ".env",
   "language": "python",
   "name": "python3"
  },
  "language_info": {
   "codemirror_mode": {
    "name": "ipython",
    "version": 3
   },
   "file_extension": ".py",
   "mimetype": "text/x-python",
   "name": "python",
   "nbconvert_exporter": "python",
   "pygments_lexer": "ipython3",
   "version": "3.11.5"
  }
 },
 "nbformat": 4,
 "nbformat_minor": 2
}
